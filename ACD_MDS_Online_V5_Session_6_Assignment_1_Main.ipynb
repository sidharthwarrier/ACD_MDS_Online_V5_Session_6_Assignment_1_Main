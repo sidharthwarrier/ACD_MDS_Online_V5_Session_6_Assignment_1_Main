{
 "cells": [
  {
   "cell_type": "markdown",
   "metadata": {},
   "source": [
    "<p>1.) Write a function so that the columns of the output matrix are powers of the input\n",
    "vector.</p>\n",
    "<p>The order of the powers is determined by the increasing boolean argument. Specifically,\n",
    "when increasing is False, the i-th output column is the input vector raised element-wise\n",
    "to the power of N - i - 1.</p>\n",
    "<p>HINT: Such a matrix with a geometric progression in each row is named for AlexandreTheophile\n",
    "Vandermonde.</p>\n"
   ]
  },
  {
   "cell_type": "code",
   "execution_count": 14,
   "metadata": {},
   "outputs": [
    {
     "name": "stdout",
     "output_type": "stream",
     "text": [
      "Enter the array element or STOP to exit :1\n",
      "Enter the array element or STOP to exit :2\n",
      "Enter the array element or STOP to exit :3\n",
      "Enter the array element or STOP to exit :STOP\n",
      "Enter the dimension : 3\n",
      "The Resultant Matrix is : \n",
      "[[1 1 1]\n",
      " [4 2 1]\n",
      " [9 3 1]]\n"
     ]
    }
   ],
   "source": [
    "#Import numpy\n",
    "import numpy as np\n",
    "\n",
    "#Define function\n",
    "def vandermatrix(inp_array,in_dim):\n",
    "    return np.vander(inp_array,in_dim)\n",
    "#define array    \n",
    "ar=[]    \n",
    "#Take array input from user\n",
    "while(True):\n",
    "    elm=input(\"Enter the array element or STOP to exit :\")\n",
    "    if(elm == 'STOP'):\n",
    "        break\n",
    "    else:\n",
    "        ar.append(int(elm))\n",
    "#Take Matrix dimension from user        \n",
    "dim =int(input(\"Enter the dimension : \"))        \n",
    "result=vandermatrix(ar,dim)\n",
    "#Print result\n",
    "print(\"The Resultant Matrix is : \")\n",
    "print(result)\n"
   ]
  },
  {
   "cell_type": "code",
   "execution_count": null,
   "metadata": {},
   "outputs": [],
   "source": [
    "3"
   ]
  }
 ],
 "metadata": {
  "kernelspec": {
   "display_name": "Python 3",
   "language": "python",
   "name": "python3"
  },
  "language_info": {
   "codemirror_mode": {
    "name": "ipython",
    "version": 3
   },
   "file_extension": ".py",
   "mimetype": "text/x-python",
   "name": "python",
   "nbconvert_exporter": "python",
   "pygments_lexer": "ipython3",
   "version": "3.6.5"
  }
 },
 "nbformat": 4,
 "nbformat_minor": 2
}
